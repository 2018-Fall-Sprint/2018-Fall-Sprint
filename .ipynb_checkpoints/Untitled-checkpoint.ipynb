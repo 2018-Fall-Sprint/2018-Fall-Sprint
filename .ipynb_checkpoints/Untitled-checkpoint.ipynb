{
 "cells": [
  {
   "cell_type": "code",
   "execution_count": 12,
   "metadata": {},
   "outputs": [],
   "source": [
    "import ExtractMsg2 #To extract information\n",
    "#import ExtractMsg\n",
    "import difflib #To search for chains based on the file name closeness\n",
    "\n",
    "def Extract_msg(FileName):\n",
    "    msg=ExtractMsg2.Message(FileName)\n",
    "    return{FileName[:-4]:{\"Subject\":msg.subject,\"Sender\":msg.sender,\"Date\":msg.date,\"To\":msg.to,\"CC\":msg.cc,\"Body\":msg.body,\"N_attachments\":len(msg.attachments),\"N_Chain\":0}}\n"
   ]
  },
  {
   "cell_type": "code",
   "execution_count": 2,
   "metadata": {},
   "outputs": [],
   "source": [
    "import glob #For iterating over files\n",
    "import pandas as pd\n",
    "import numpy as np\n",
    "Mail_DB={}\n",
    "#rows=0\n",
    "for file in glob.iglob(\"*.msg\"):\n",
    "    Mail=Extract_Data(file)\n",
    "    Mail_DB.update()\n",
    "    #if len(difflib.get_close_matches(list(Mail.keys()),list(Mail_DB.keys()),n=1,cutoff=.95))>0\n",
    "        #Mail_DB[difflib.get_close_matches(list(Mail.keys()),list(Mail_DB.keys()),n=1,cutoff=.95)][\"N_Chain\"]+=1\n",
    "        #Mail_DB[difflib.get_close_matches(list(Mail.keys()),list(Mail_DB.keys()),n=1,cutoff=.95)][\"Chain\"+Mail_DB[difflib.get_close_matches(list(Mail.keys()),list(Mail_DB.keys()),n=1,cutoff=.95)][\"N_Chain\"]]\n",
    "        #msg_attachments=list(msg.attachments)\n",
    "        #msg_parsedDate=msg.parsedDate\n",
    "#Mail_DB.iloc[rows]=[msg_sender,msg_to,msg_date,msg_subj,msg_message]\n",
    "#rows=+1\n",
    "    #print(msg_attachments)\n",
    "    #print('Sender: {}'.format(msg_sender))\n",
    "    #print(msg_date)\n",
    "    #print('Subject: {}'.format(msg_subj))\n",
    "    #print('Body: {}'.format(msg_message))\n",
    "    #print(msg.date)\n",
    "\n"
   ]
  },
  {
   "cell_type": "code",
   "execution_count": 26,
   "metadata": {},
   "outputs": [
    {
     "data": {
      "text/plain": [
       "'RE Renewal Bertram Drilling File  502056502056-04'"
      ]
     },
     "execution_count": 26,
     "metadata": {},
     "output_type": "execute_result"
    }
   ],
   "source": [
    "tests=\"RE Renewal Bertram Drilling File  502056502056-04.msg\"\n"
   ]
  },
  {
   "cell_type": "code",
   "execution_count": 27,
   "metadata": {},
   "outputs": [
    {
     "data": {
      "text/plain": [
       "'Mohan,\\r\\n\\r\\n \\r\\n\\r\\nSee attached endorsement 4 as issued.\\r\\n\\r\\n \\r\\n\\r\\nThanks,\\r\\n\\r\\n \\r\\n\\r\\nKathleen Rittinghouse\\r\\n\\r\\nUnderwriting Analyst \\r\\n\\r\\nStarr Companies\\r\\n\\r\\n5151 San Felipe St. | Ste. 200 | Houston, TX 77056-3607 \\r\\n\\r\\nDirect: (713) 470-1470\\r\\n\\r\\nFacsimile: (713) 353-0246\\r\\n\\r\\nkathleen.rittinghouse@StarrCompanies.com\\r\\n<mailto:kathleen.rittinghouse@StarrCompanies.com> \\r\\n\\r\\n \\r\\n\\r\\nAsk about our ECO STARR SUITESM\\r\\n\\r\\nCoverages include: Workers’ Compensation, Commercial Automobile,\\r\\nGeneral Liability, Contractor Pollution Liability, Professional\\r\\nLiability, Site Pollution Liability, Transportation Pollution Liability\\r\\n\\r\\n \\r\\n\\r\\nFor more information on our Environmental appetite, click here\\r\\n<http://www.starrcompanies.com/Insurance/EnvironmentalOverview> .\\r\\n\\r\\nwww.starrcompanies.com <http://www.starrcompanies.com/> \\r\\n\\r\\nLearn More About Starr Companies\\r\\n<http://www.nxtbook.com/nxtbooks/starr/companyoverview/> \\r\\n\\r\\n \\r\\n\\r\\nRequesting Loss Runs: Please send your request to the appropriate field\\r\\noffice where the policy was bound.  Effective 12/07/17, please do NOT\\r\\nrequest loss runs through the “Loss History” Mailbox.  For Houston\\r\\nEnvironmental accounts, please request from Kathleen Rittinghouse or\\r\\nMichelle Kujawa.  Thanks for your cooperation.\\r\\n\\r\\n \\r\\n\\r\\nNew/Renewal Business Submissions: Please send in all of your New\\r\\nBusiness and Renewal Environmental related submissions to\\r\\nHoustonEnvironmental@StarrCompanies.com\\r\\n<mailto:HoustonEnvironmental@StarrCompanies.com>  and Cc: Kathleen\\r\\nRittinghouse <mailto:kathleen.rittinghouse@starrcompanies.com> ,\\r\\nMichelle Kujawa <http://Michelle.Kujawa@starrcompanies.com> , Gary\\r\\nMartyr <mailto:gary.martyr@starrcompanies.com>  and Dustin Dunn\\r\\n<mailto:dustin.dunn@starrcompanies.com> .\\r\\n\\r\\n \\r\\n\\r\\nStarr Companies is the worldwide marketing name for the operating\\r\\ninsurance and travel assistance companies and subsidiaries of Starr\\r\\nInternational Company, Inc. and for the investment business of C. V.\\r\\nStarr & Co., Inc. and its subsidiaries. \\r\\n\\r\\n \\r\\n\\r\\nThis e-mail and any attachments hereto are intended only for the use of\\r\\nthe addressee(s) named herein and may be confidential, non-public,\\r\\nproprietary, protected by the attorney/client or other privilege.\\r\\nUnauthorized reading, distribution, copying, saving or other use of this\\r\\ncommunication is prohibited and may be unlawful. Receipt by anyone other\\r\\nthan the named addressee(s) shall not be deemed a waiver of any\\r\\nprivilege or protection. If you are not a named addressee or if you\\r\\nbelieve that you have received this e-mail in error, please notify the\\r\\nsender immediately and delete all copies from your computer system\\r\\nwithout reading, distributing, copying, saving or otherwise using it in\\r\\nany manner. We do not warrant or represent in any way that this\\r\\ncommunication is free of malicious software or potentially damaging\\r\\ndefects. All liability for any actual or alleged loss, damage, or injury\\r\\narising out of or resulting in any way from the receipt, opening or use\\r\\nof this e-mail is expressly disclaimed.\\r\\n\\r\\n \\r\\n\\r\\n \\r\\n\\r\\n \\r\\n\\r\\n \\r\\n\\r\\nFrom: Mohan Jitlal \\r\\nSent: Thursday, February 08, 2018 1:25 PM\\r\\nTo: Kathleen Rittinghouse <Kathleen.Rittinghouse@starrcompanies.com>\\r\\nCc: Leslie Rodriguez <Leslie.Rodriguez@starrcompanies.com>; Angelica\\r\\nCoronado <Angelica.Coronado@starrcompanies.com>; Gary Martyr\\r\\n<Gary.Martyr@starrcompanies.com>; Premium Audit\\r\\n<Premium.Audit@starrcompanies.com>; Michelle McKee\\r\\n<Michelle.McKee@starrcompanies.com>; Kevin Kill\\r\\n<kevin.kill@starrcompanies.com>; Harrington Williams\\r\\n<Harrington.Williams@starrcompanies.com>\\r\\nSubject: RE: A&D Holdings, Inc. - SISIPCA08206316 2016-2017\\r\\n\\r\\n \\r\\n\\r\\nKathleen,\\r\\n\\r\\n \\r\\n\\r\\nWe are approaching almost 30 days since PAD tried to book this premium\\r\\nand have sent numerous follow ups to get this fixed.\\r\\n\\r\\n \\r\\n\\r\\nPlease resolve this issue. \\r\\n\\r\\n \\r\\n\\r\\nMohan Jitlal\\r\\n\\r\\nPremium Audit Coordinator\\r\\n\\r\\nStarr Insurance Holdings, Inc. – A Member of Starr Companies\\r\\n\\r\\n445 Park Avenue, 5th Floor\\r\\n\\r\\nNew York, NY 10022\\r\\n\\r\\nW: 646-560-0039\\r\\n\\r\\nF: 646-365-6283\\r\\n\\r\\nE: Mohan.Jitlal@starrcompanies.com\\r\\n<mailto:Mohan.Jitlal@starrcompanies.com> \\r\\n\\r\\nwww.starrcompanies.com <http://www.starrcompanies.com/> \\r\\n\\r\\n \\r\\n\\r\\nLearn More About Starr Companies\\r\\n<http://www.nxtbook.com/nxtbooks/starr/companyoverview/> \\r\\n\\r\\n \\r\\n\\r\\n \\r\\n\\r\\nFrom: Michelle McKee \\r\\nSent: Tuesday, January 23, 2018 3:14 PM\\r\\nTo: Kathleen Rittinghouse <Kathleen.Rittinghouse@starrcompanies.com\\r\\n<mailto:Kathleen.Rittinghouse@starrcompanies.com> >\\r\\nCc: Leslie Rodriguez <Leslie.Rodriguez@starrcompanies.com\\r\\n<mailto:Leslie.Rodriguez@starrcompanies.com> >; Angelica Coronado\\r\\n<Angelica.Coronado@starrcompanies.com\\r\\n<mailto:Angelica.Coronado@starrcompanies.com> >; Mohan Jitlal\\r\\n<Mohan.Jitlal@starrcompanies.com\\r\\n<mailto:Mohan.Jitlal@starrcompanies.com> >; Gary Martyr\\r\\n<Gary.Martyr@starrcompanies.com <mailto:Gary.Martyr@starrcompanies.com>\\r\\n>; Premium Audit <Premium.Audit@starrcompanies.com\\r\\n<mailto:Premium.Audit@starrcompanies.com> >\\r\\nSubject: RE: A&D Holdings, Inc. - SISIPCA08206316 2016-2017\\r\\n\\r\\n \\r\\n\\r\\nHi Kathleen,\\r\\n\\r\\nWanted to follow up on this.\\r\\n\\r\\nThank you,\\r\\n\\r\\nMichelle\\r\\n\\r\\n \\r\\n\\r\\nMichelle McKee\\r\\n\\r\\nPremium Audit Coordinator\\r\\n\\r\\nStarr Indemnity and Liability Company\\r\\n\\r\\n500 W. Monroe, 31st  Floor\\r\\n\\r\\nChicago, IL  60661\\r\\n\\r\\nOffice: (312) 470-9216\\r\\n\\r\\nMichelle.McKee@starrcompanies.com\\r\\n<mailto:Michelle.McKee@starrcompanies.com> \\r\\n\\r\\nwww.starrcompanies.com <http://www.starrcompanies.com/> \\r\\n\\r\\n \\r\\n\\r\\nLearn More About Starr Companies\\r\\n<http://www.nxtbook.com/nxtbooks/starr/companyoverview/> \\r\\n\\r\\n \\r\\n\\r\\nStarr Companies is the worldwide marketing name for the operating\\r\\ninsurance and travel assistance companies and subsidiaries of Starr\\r\\nInternational Company, Inc. and for the investment business of C. V.\\r\\nStarr & Co., Inc. and its subsidiaries. \\r\\n\\r\\n \\r\\n\\r\\nThis e-mail and any attachments hereto are intended only for the use of\\r\\nthe addressee(s) named herein and may be confidential, non-public,\\r\\nproprietary, protected by the attorney/client or other privilege.\\r\\nUnauthorized reading, distribution, copying, saving or other use of this\\r\\ncommunication is prohibited and may be unlawful. Receipt by anyone other\\r\\nthan the named addressee(s) shall not be deemed a waiver of any\\r\\nprivilege or protection. If you are not a named addressee or if you\\r\\nbelieve that you have received this e-mail in error, please notify the\\r\\nsender immediately and delete all copies from your computer system\\r\\nwithout reading, distributing, copying, saving or otherwise using it in\\r\\nany manner. We do not warrant or represent in any way that this\\r\\ncommunication is free of malicious software or potentially damaging\\r\\ndefects. All liability for any actual or alleged loss, damage, or injury\\r\\narising out of or resulting in any way from the receipt, opening or use\\r\\nof this e-mail is expressly disclaimed.\\r\\n\\r\\n \\r\\n\\r\\nFrom: Kathleen Rittinghouse \\r\\nSent: Friday, January 19, 2018 4:37 PM\\r\\nTo: Michelle McKee <Michelle.McKee@starrcompanies.com\\r\\n<mailto:Michelle.McKee@starrcompanies.com> >; Angelica Coronado\\r\\n<Angelica.Coronado@starrcompanies.com\\r\\n<mailto:Angelica.Coronado@starrcompanies.com> >; Mohan Jitlal\\r\\n<Mohan.Jitlal@starrcompanies.com\\r\\n<mailto:Mohan.Jitlal@starrcompanies.com> >; Gary Martyr\\r\\n<Gary.Martyr@starrcompanies.com <mailto:Gary.Martyr@starrcompanies.com>\\r\\n>\\r\\nCc: Leslie Rodriguez <Leslie.Rodriguez@starrcompanies.com\\r\\n<mailto:Leslie.Rodriguez@starrcompanies.com> >\\r\\nSubject: RE: A&D Holdings, Inc. - SISIPCA08206316 2016-2017\\r\\n\\r\\n \\r\\n\\r\\nHi Michelle,\\r\\n\\r\\n \\r\\n\\r\\nI have not had a moment to review this further as we are preparing for\\r\\naudit and Michelle is out of the office.\\r\\n\\r\\nI hope to have something to you early next week.\\r\\n\\r\\n \\r\\n\\r\\nThanks,\\r\\n\\r\\n \\r\\n\\r\\nKathleen Rittinghouse\\r\\n\\r\\nUnderwriting Analyst \\r\\n\\r\\nStarr Companies\\r\\n\\r\\n5151 San Felipe St. | Ste. 200 | Houston, TX 77056-3607 \\r\\n\\r\\nDirect: (713) 470-1470\\r\\n\\r\\nFacsimile: (713) 353-0246\\r\\n\\r\\nkathleen.rittinghouse@StarrCompanies.com\\r\\n<mailto:kathleen.rittinghouse@StarrCompanies.com> \\r\\n\\r\\n \\r\\n\\r\\nAsk about our ECO STARR SUITESM\\r\\n\\r\\nCoverages include: Workers’ Compensation, Commercial Automobile,\\r\\nGeneral Liability, Contractor Pollution Liability, Professional\\r\\nLiability, Site Pollution Liability, Transportation Pollution Liability\\r\\n\\r\\n \\r\\n\\r\\nFor more information on our Environmental appetite, click here\\r\\n<http://www.starrcompanies.com/Insurance/EnvironmentalOverview> .\\r\\n\\r\\nwww.starrcompanies.com <http://www.starrcompanies.com/> \\r\\n\\r\\nLearn More About Starr Companies\\r\\n<http://www.nxtbook.com/nxtbooks/starr/companyoverview/> \\r\\n\\r\\n \\r\\n\\r\\nRequesting Loss Runs: Please send your request to the appropriate field\\r\\noffice where the policy was bound.  Effective 12/07/17, please do NOT\\r\\nrequest loss runs through the “Loss History” Mailbox.  For Houston\\r\\nEnvironmental accounts, please request from Kathleen Rittinghouse or\\r\\nMichelle Kujawa.  Thanks for your cooperation.\\r\\n\\r\\n \\r\\n\\r\\nNew/Renewal Business Submissions: Please send in all of your New\\r\\nBusiness and Renewal Environmental related submissions to\\r\\nHoustonEnvironmental@StarrCompanies.com\\r\\n<mailto:HoustonEnvironmental@StarrCompanies.com>  and Cc: Kathleen\\r\\nRittinghouse <mailto:kathleen.rittinghouse@starrcompanies.com> ,\\r\\nMichelle Kujawa <http://Michelle.Kujawa@starrcompanies.com> , Gary\\r\\nMartyr <mailto:gary.martyr@starrcompanies.com>  and Dustin Dunn\\r\\n<mailto:dustin.dunn@starrcompanies.com> .\\r\\n\\r\\n \\r\\n\\r\\nStarr Companies is the worldwide marketing name for the operating\\r\\ninsurance and travel assistance companies and subsidiaries of Starr\\r\\nInternational Company, Inc. and for the investment business of C. V.\\r\\nStarr & Co., Inc. and its subsidiaries. \\r\\n\\r\\n \\r\\n\\r\\nThis e-mail and any attachments hereto are intended only for the use of\\r\\nthe addressee(s) named herein and may be confidential, non-public,\\r\\nproprietary, protected by the attorney/client or other privilege.\\r\\nUnauthorized reading, distribution, copying, saving or other use of this\\r\\ncommunication is prohibited and may be unlawful. Receipt by anyone other\\r\\nthan the named addressee(s) shall not be deemed a waiver of any\\r\\nprivilege or protection. If you are not a named addressee or if you\\r\\nbelieve that you have received this e-mail in error, please notify the\\r\\nsender immediately and delete all copies from your computer system\\r\\nwithout reading, distributing, copying, saving or otherwise using it in\\r\\nany manner. We do not warrant or represent in any way that this\\r\\ncommunication is free of malicious software or potentially damaging\\r\\ndefects. All liability for any actual or alleged loss, damage, or injury\\r\\narising out of or resulting in any way from the receipt, opening or use\\r\\nof this e-mail is expressly disclaimed.\\r\\n\\r\\n \\r\\n\\r\\n \\r\\n\\r\\n \\r\\n\\r\\n \\r\\n\\r\\nFrom: Michelle McKee \\r\\nSent: Tuesday, January 16, 2018 10:40 AM\\r\\nTo: Kathleen Rittinghouse <Kathleen.Rittinghouse@starrcompanies.com\\r\\n<mailto:Kathleen.Rittinghouse@starrcompanies.com> >; Angelica Coronado\\r\\n<Angelica.Coronado@starrcompanies.com\\r\\n<mailto:Angelica.Coronado@starrcompanies.com> >; Mohan Jitlal\\r\\n<Mohan.Jitlal@starrcompanies.com\\r\\n<mailto:Mohan.Jitlal@starrcompanies.com> >; Gary Martyr\\r\\n<Gary.Martyr@starrcompanies.com <mailto:Gary.Martyr@starrcompanies.com>\\r\\n>\\r\\nCc: Leslie Rodriguez <Leslie.Rodriguez@starrcompanies.com\\r\\n<mailto:Leslie.Rodriguez@starrcompanies.com> >\\r\\nSubject: RE: A&D Holdings, Inc. - SISIPCA08206316 2016-2017\\r\\nImportance: High\\r\\n\\r\\n \\r\\n\\r\\nHi Kathleen,\\r\\n\\r\\nAny updates?  We need to get this invoiced.\\r\\n\\r\\nThanks,\\r\\n\\r\\nMichelle\\r\\n\\r\\n \\r\\n\\r\\nMichelle McKee\\r\\n\\r\\nPremium Audit Coordinator\\r\\n\\r\\nStarr Indemnity and Liability Company\\r\\n\\r\\n500 W. Monroe, 31st  Floor\\r\\n\\r\\nChicago, IL  60661\\r\\n\\r\\nOffice: (312) 470-9216\\r\\n\\r\\nMichelle.McKee@starrcompanies.com\\r\\n<mailto:Michelle.McKee@starrcompanies.com> \\r\\n\\r\\nwww.starrcompanies.com <http://www.starrcompanies.com/> \\r\\n\\r\\n \\r\\n\\r\\nLearn More About Starr Companies\\r\\n<http://www.nxtbook.com/nxtbooks/starr/companyoverview/> \\r\\n\\r\\n \\r\\n\\r\\nStarr Companies is the worldwide marketing name for the operating\\r\\ninsurance and travel assistance companies and subsidiaries of Starr\\r\\nInternational Company, Inc. and for the investment business of C. V.\\r\\nStarr & Co., Inc. and its subsidiaries. \\r\\n\\r\\n \\r\\n\\r\\nThis e-mail and any attachments hereto are intended only for the use of\\r\\nthe addressee(s) named herein and may be confidential, non-public,\\r\\nproprietary, protected by the attorney/client or other privilege.\\r\\nUnauthorized reading, distribution, copying, saving or other use of this\\r\\ncommunication is prohibited and may be unlawful. Receipt by anyone other\\r\\nthan the named addressee(s) shall not be deemed a waiver of any\\r\\nprivilege or protection. If you are not a named addressee or if you\\r\\nbelieve that you have received this e-mail in error, please notify the\\r\\nsender immediately and delete all copies from your computer system\\r\\nwithout reading, distributing, copying, saving or otherwise using it in\\r\\nany manner. We do not warrant or represent in any way that this\\r\\ncommunication is free of malicious software or potentially damaging\\r\\ndefects. All liability for any actual or alleged loss, damage, or injury\\r\\narising out of or resulting in any way from the receipt, opening or use\\r\\nof this e-mail is expressly disclaimed.\\r\\n\\r\\n \\r\\n\\r\\nFrom: Kathleen Rittinghouse \\r\\nSent: Thursday, January 11, 2018 8:19 PM\\r\\nTo: Angelica Coronado <Angelica.Coronado@starrcompanies.com\\r\\n<mailto:Angelica.Coronado@starrcompanies.com> >; Mohan Jitlal\\r\\n<Mohan.Jitlal@starrcompanies.com\\r\\n<mailto:Mohan.Jitlal@starrcompanies.com> >; Gary Martyr\\r\\n<Gary.Martyr@starrcompanies.com <mailto:Gary.Martyr@starrcompanies.com>\\r\\n>\\r\\nCc: Leslie Rodriguez <Leslie.Rodriguez@starrcompanies.com\\r\\n<mailto:Leslie.Rodriguez@starrcompanies.com> >; Michelle McKee\\r\\n<Michelle.McKee@starrcompanies.com\\r\\n<mailto:Michelle.McKee@starrcompanies.com> >\\r\\nSubject: RE: A&D Holdings, Inc. - SISIPCA08206316 2016-2017\\r\\n\\r\\n \\r\\n\\r\\nHi, I did look into this and will revert soonest, as it seems the\\r\\nendorsement request was pending confirmation of the Cost New which was\\r\\nnever received.  I will proceed with what generated in VINtelligence.\\r\\nThe pending endorsement does need to be bound from what I can see.  I\\r\\nwill review further tomorrow.\\r\\n\\r\\n \\r\\n\\r\\nThanks,\\r\\n\\r\\n \\r\\n\\r\\nHave a great day,\\r\\n\\r\\nKathleen Rittinghouse\\r\\n\\r\\nUnderwriting Analyst - Environmental\\r\\n<https://na01.safelinks.protection.outlook.com/?url=http%3A%2F%2Fwww.sta\\r\\nrrcompanies.com%2FInsurance%2FEnvironmentalOverview&data=02%7C01%7Ckathl\\r\\neen.rittinghouse%40starrcompanies.com%7Cfa3b64b38bfe4a9f188c08d47d396d3f\\r\\n%7Ceb1190ad7def41089fa43bdc27d1f7ac%7C0%7C0%7C636271132978871158&sdata=I\\r\\n8kTU3N%2FrDSs8TBm%2FphInBf8jBm1Z2DX2EVAjbQETQQ%3D&reserved=0> \\r\\n\\r\\nStarr Companies\\r\\n\\r\\n5151 San Felipe St. | Ste. 200 | Houston, TX 77056-3607 \\r\\n\\r\\nDirect: (713) 470-1470\\r\\n\\r\\nFacsimile: (713) 353-0246\\r\\n\\r\\nkathleen.rittinghouse@StarrCompanies.com\\r\\n<mailto:kathleen.rittinghouse@StarrCompanies.com> \\r\\n\\r\\n \\r\\n\\r\\nwww.starrcompanies.com\\r\\n<https://na01.safelinks.protection.outlook.com/?url=http%3A%2F%2Fwww.sta\\r\\nrrcompanies.com%2F&data=02%7C01%7Ckathleen.rittinghouse%40starrcompanies\\r\\n.com%7Cfa3b64b38bfe4a9f188c08d47d396d3f%7Ceb1190ad7def41089fa43bdc27d1f7\\r\\nac%7C0%7C0%7C636271132978871158&sdata=MVHI8D2FNGL43ihDgNeS101wJ8ccf3uwXy\\r\\nWeFuWfZkY%3D&reserved=0> \\r\\n\\r\\nLearn More About Starr Companies\\r\\n<https://na01.safelinks.protection.outlook.com/?url=http%3A%2F%2Fwww.nxt\\r\\nbook.com%2Fnxtbooks%2Fstarr%2Fcompanyoverview%2F&data=02%7C01%7Ckathleen\\r\\n.rittinghouse%40starrcompanies.com%7Cfa3b64b38bfe4a9f188c08d47d396d3f%7C\\r\\neb1190ad7def41089fa43bdc27d1f7ac%7C0%7C0%7C636271132978871158&sdata=1RS%\\r\\n2FeLCR5CZNPS%2Bd3i0fCYkxA907Ty2x3gAW4BSODOE%3D&reserved=0> \\r\\n\\r\\n \\r\\n\\r\\nStarr Companies is the worldwide marketing name for the operating\\r\\ninsurance and travel assistance companies and subsidiaries of Starr\\r\\nInternational Company, Inc. and for the investment business of C. V.\\r\\nStarr & Co., Inc. and its subsidiaries. \\r\\n\\r\\n \\r\\n\\r\\nThis e-mail and any attachments hereto are intended only for the use of\\r\\nthe addressee(s) named herein and may be confidential, non-public,\\r\\nproprietary, protected by the attorney/client or other privilege.\\r\\nUnauthorized reading, distribution, copying, saving or other use of this\\r\\ncommunication is prohibited and may be unlawful. Receipt by anyone other\\r\\nthan the named addressee(s) shall not be deemed a waiver of any\\r\\nprivilege or protection. If you are not a named addressee or if you\\r\\nbelieve that you have received this e-mail in error, please notify the\\r\\nsender immediately and delete all copies from your computer system\\r\\nwithout reading, distributing, copying, saving or otherwise using it in\\r\\nany manner. We do not warrant or represent in any way that this\\r\\ncommunication is free of malicious software or potentially damaging\\r\\ndefects. All liability for any actual or alleged loss, damage, or injury\\r\\narising out of or resulting in any way from the receipt, opening or use\\r\\nof this e-mail is expressly disclaimed.\\r\\n\\r\\n \\r\\n\\r\\n \\r\\n\\r\\n \\r\\n\\r\\nFrom: Angelica Coronado \\r\\nSent: Thursday, January 11, 2018 9:09 AM\\r\\nTo: Mohan Jitlal <Mohan.Jitlal@starrcompanies.com\\r\\n<mailto:Mohan.Jitlal@starrcompanies.com> >; Gary Martyr\\r\\n<Gary.Martyr@starrcompanies.com <mailto:Gary.Martyr@starrcompanies.com>\\r\\n>\\r\\nCc: Leslie Rodriguez <Leslie.Rodriguez@starrcompanies.com\\r\\n<mailto:Leslie.Rodriguez@starrcompanies.com> >; Michelle McKee\\r\\n<Michelle.McKee@starrcompanies.com\\r\\n<mailto:Michelle.McKee@starrcompanies.com> >; Kathleen Rittinghouse\\r\\n<Kathleen.Rittinghouse@starrcompanies.com\\r\\n<mailto:Kathleen.Rittinghouse@starrcompanies.com> >\\r\\nSubject: RE: A&D Holdings, Inc. - SISIPCA08206316 2016-2017\\r\\n\\r\\n \\r\\n\\r\\nThanks Mohan!\\r\\n\\r\\n \\r\\n\\r\\nKat – When you have a moment, would you mind reviewing the below? \\r\\n\\r\\n \\r\\n\\r\\nFrom: Mohan Jitlal \\r\\nSent: Thursday, January 11, 2018 8:30 AM\\r\\nTo: Gary Martyr <Gary.Martyr@starrcompanies.com\\r\\n<mailto:Gary.Martyr@starrcompanies.com> >\\r\\nCc: Susan Galvin <Susan.Galvin@starrcompanies.com\\r\\n<mailto:Susan.Galvin@starrcompanies.com> >; Angelica Coronado\\r\\n<Angelica.Coronado@starrcompanies.com\\r\\n<mailto:Angelica.Coronado@starrcompanies.com> >; Michelle McKee\\r\\n<Michelle.McKee@starrcompanies.com\\r\\n<mailto:Michelle.McKee@starrcompanies.com> >\\r\\nSubject: A&D Holdings, Inc. - SISIPCA08206316 2016-2017\\r\\n\\r\\n \\r\\n\\r\\nGary,\\r\\n\\r\\n \\r\\n\\r\\nI can’t tell from looking at the transaction screen.  But, someone\\r\\ncreated a transaction of $17.00 and left it as an Unbound Endorsement.\\r\\nI can’t book my Audit until this is bound / processed.  Please advise if\\r\\nthis is a valid transaction or needs to be deleted.  If so, please have\\r\\nthem complete the process.\\r\\n\\r\\n \\r\\n\\r\\n\\r\\n\\r\\n \\r\\n\\r\\nThank you. \\r\\n\\r\\n \\r\\n\\r\\nMohan Jitlal\\r\\n\\r\\nPremium Audit Coordinator\\r\\n\\r\\nStarr Insurance Holdings, Inc. – A Member of Starr Companies\\r\\n\\r\\n445 Park Avenue, 5th Floor\\r\\n\\r\\nNew York, NY 10022\\r\\n\\r\\nW: 646-560-0039\\r\\n\\r\\nF: 646-365-6283\\r\\n\\r\\nE: Mohan.Jitlal@starrcompanies.com\\r\\n<mailto:Mohan.Jitlal@starrcompanies.com> \\r\\n\\r\\nwww.starrcompanies.com <http://www.starrcompanies.com/> \\r\\n\\r\\n \\r\\n\\r\\nLearn More About Starr Companies\\r\\n<http://www.nxtbook.com/nxtbooks/starr/companyoverview/> \\r\\n\\r\\n \\r\\n\\r\\n \\r\\n\\r\\n'"
      ]
     },
     "execution_count": 27,
     "metadata": {},
     "output_type": "execute_result"
    }
   ],
   "source": [
    "test_body=ExtractMsg2.Message(\"Auto endt 4 A&D Holdings corresp to brkr.msg\").body\n",
    "ExtractMsg2.Message(\"Auto endt 4 A&D Holdings corresp to brkr.msg\").body"
   ]
  },
  {
   "cell_type": "code",
   "execution_count": null,
   "metadata": {},
   "outputs": [],
   "source": [
    "print(\"\")"
   ]
  },
  {
   "cell_type": "code",
   "execution_count": 30,
   "metadata": {},
   "outputs": [
    {
     "data": {
      "text/plain": [
       "[(' Mohan Jitlal \\r', ' Thursday, February 08, 2018 1:25 PM\\r'),\n",
       " (' Michelle McKee \\r', ' Tuesday, January 23, 2018 3:14 PM\\r'),\n",
       " (' Kathleen Rittinghouse \\r', ' Friday, January 19, 2018 4:37 PM\\r'),\n",
       " (' Michelle McKee \\r', ' Tuesday, January 16, 2018 10:40 AM\\r'),\n",
       " (' Kathleen Rittinghouse \\r', ' Thursday, January 11, 2018 8:19 PM\\r'),\n",
       " (' Angelica Coronado \\r', ' Thursday, January 11, 2018 9:09 AM\\r'),\n",
       " (' Mohan Jitlal \\r', ' Thursday, January 11, 2018 8:30 AM\\r')]"
      ]
     },
     "execution_count": 30,
     "metadata": {},
     "output_type": "execute_result"
    }
   ],
   "source": [
    "import re\n",
    "re.findall(r\"\\nFrom:(.*)\\nSent:(.*)\\nTo:\",test_body)"
   ]
  },
  {
   "cell_type": "code",
   "execution_count": 62,
   "metadata": {},
   "outputs": [
    {
     "data": {
      "text/plain": [
       "0"
      ]
     },
     "execution_count": 62,
     "metadata": {},
     "output_type": "execute_result"
    }
   ],
   "source": [
    "ExtractMsg"
   ]
  },
  {
   "cell_type": "code",
   "execution_count": 61,
   "metadata": {},
   "outputs": [
    {
     "data": {
      "text/plain": [
       "['RE Renewal Bertram Drilling File  502056502056-04']"
      ]
     },
     "execution_count": 61,
     "metadata": {},
     "output_type": "execute_result"
    }
   ],
   "source": [
    "list(test.keys())"
   ]
  },
  {
   "cell_type": "code",
   "execution_count": 3,
   "metadata": {},
   "outputs": [
    {
     "name": "stdout",
     "output_type": "stream",
     "text": [
      "{}\n"
     ]
    }
   ],
   "source": [
    "print(Mail_DB)"
   ]
  },
  {
   "cell_type": "code",
   "execution_count": null,
   "metadata": {},
   "outputs": [],
   "source": []
  }
 ],
 "metadata": {
  "kernelspec": {
   "display_name": "Python 3",
   "language": "python",
   "name": "python3"
  },
  "language_info": {
   "codemirror_mode": {
    "name": "ipython",
    "version": 3
   },
   "file_extension": ".py",
   "mimetype": "text/x-python",
   "name": "python",
   "nbconvert_exporter": "python",
   "pygments_lexer": "ipython3",
   "version": "3.6.5"
  }
 },
 "nbformat": 4,
 "nbformat_minor": 2
}
